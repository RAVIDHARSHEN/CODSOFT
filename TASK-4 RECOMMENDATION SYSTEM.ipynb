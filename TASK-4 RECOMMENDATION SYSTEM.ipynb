{
 "cells": [
  {
   "cell_type": "code",
   "execution_count": 1,
   "id": "8bab0199",
   "metadata": {},
   "outputs": [
    {
     "name": "stdout",
     "output_type": "stream",
     "text": [
      "   userId  movieId  rating  timestamp\n",
      "0     196      242       3  881250949\n",
      "1     186      302       3  891717742\n",
      "2      22      377       1  878887116\n",
      "3     244       51       2  880606923\n",
      "4     166      346       1  886397596\n",
      "   movieId              title release_date  video_release_date  \\\n",
      "0        1   Toy Story (1995)  01-Jan-1995                 NaN   \n",
      "1        2   GoldenEye (1995)  01-Jan-1995                 NaN   \n",
      "2        3  Four Rooms (1995)  01-Jan-1995                 NaN   \n",
      "3        4  Get Shorty (1995)  01-Jan-1995                 NaN   \n",
      "4        5     Copycat (1995)  01-Jan-1995                 NaN   \n",
      "\n",
      "                                            IMDb_URL  unknown  Action  \\\n",
      "0  http://us.imdb.com/M/title-exact?Toy%20Story%2...        0       0   \n",
      "1  http://us.imdb.com/M/title-exact?GoldenEye%20(...        0       1   \n",
      "2  http://us.imdb.com/M/title-exact?Four%20Rooms%...        0       0   \n",
      "3  http://us.imdb.com/M/title-exact?Get%20Shorty%...        0       1   \n",
      "4  http://us.imdb.com/M/title-exact?Copycat%20(1995)        0       0   \n",
      "\n",
      "   Adventure  Animation  Children  ...  Fantasy  Film-Noir  Horror  Musical  \\\n",
      "0          0          1         1  ...        0          0       0        0   \n",
      "1          1          0         0  ...        0          0       0        0   \n",
      "2          0          0         0  ...        0          0       0        0   \n",
      "3          0          0         0  ...        0          0       0        0   \n",
      "4          0          0         0  ...        0          0       0        0   \n",
      "\n",
      "   Mystery  Romance  Sci-Fi  Thriller  War  Western  \n",
      "0        0        0       0         0    0        0  \n",
      "1        0        0       0         1    0        0  \n",
      "2        0        0       0         1    0        0  \n",
      "3        0        0       0         0    0        0  \n",
      "4        0        0       0         1    0        0  \n",
      "\n",
      "[5 rows x 24 columns]\n"
     ]
    }
   ],
   "source": [
    "import pandas as pd\n",
    "from sklearn.metrics.pairwise import cosine_similarity\n",
    "\n",
    "# Load the data\n",
    "ratings = pd.read_csv(\"C:\\\\Users\\\\Admin\\\\Desktop\\\\CODSOFT\\\\ml-100k\\\\u.data\", sep='\\t', names=['userId', 'movieId', 'rating', 'timestamp'])\n",
    "movies = pd.read_csv(\"C:\\\\Users\\\\Admin\\\\Desktop\\\\CODSOFT\\\\ml-100k\\\\u.item\", sep='|', names=['movieId', 'title', 'release_date', 'video_release_date', 'IMDb_URL', 'unknown', 'Action', 'Adventure', 'Animation', 'Children', 'Comedy', 'Crime', 'Documentary', 'Drama', 'Fantasy', 'Film-Noir', 'Horror', 'Musical', 'Mystery', 'Romance', 'Sci-Fi', 'Thriller', 'War', 'Western'], encoding='latin-1')\n",
    "\n",
    "# Display the first few rows of each DataFrame\n",
    "print(ratings.head())\n",
    "print(movies.head())\n"
   ]
  },
  {
   "cell_type": "code",
   "execution_count": 2,
   "id": "5a2d0334",
   "metadata": {},
   "outputs": [
    {
     "name": "stdout",
     "output_type": "stream",
     "text": [
      "<class 'pandas.core.frame.DataFrame'>\n",
      "RangeIndex: 100000 entries, 0 to 99999\n",
      "Data columns (total 4 columns):\n",
      " #   Column     Non-Null Count   Dtype\n",
      "---  ------     --------------   -----\n",
      " 0   userId     100000 non-null  int64\n",
      " 1   movieId    100000 non-null  int64\n",
      " 2   rating     100000 non-null  int64\n",
      " 3   timestamp  100000 non-null  int64\n",
      "dtypes: int64(4)\n",
      "memory usage: 3.1 MB\n",
      "<class 'pandas.core.frame.DataFrame'>\n",
      "RangeIndex: 1682 entries, 0 to 1681\n",
      "Data columns (total 24 columns):\n",
      " #   Column              Non-Null Count  Dtype  \n",
      "---  ------              --------------  -----  \n",
      " 0   movieId             1682 non-null   int64  \n",
      " 1   title               1682 non-null   object \n",
      " 2   release_date        1681 non-null   object \n",
      " 3   video_release_date  0 non-null      float64\n",
      " 4   IMDb_URL            1679 non-null   object \n",
      " 5   unknown             1682 non-null   int64  \n",
      " 6   Action              1682 non-null   int64  \n",
      " 7   Adventure           1682 non-null   int64  \n",
      " 8   Animation           1682 non-null   int64  \n",
      " 9   Children            1682 non-null   int64  \n",
      " 10  Comedy              1682 non-null   int64  \n",
      " 11  Crime               1682 non-null   int64  \n",
      " 12  Documentary         1682 non-null   int64  \n",
      " 13  Drama               1682 non-null   int64  \n",
      " 14  Fantasy             1682 non-null   int64  \n",
      " 15  Film-Noir           1682 non-null   int64  \n",
      " 16  Horror              1682 non-null   int64  \n",
      " 17  Musical             1682 non-null   int64  \n",
      " 18  Mystery             1682 non-null   int64  \n",
      " 19  Romance             1682 non-null   int64  \n",
      " 20  Sci-Fi              1682 non-null   int64  \n",
      " 21  Thriller            1682 non-null   int64  \n",
      " 22  War                 1682 non-null   int64  \n",
      " 23  Western             1682 non-null   int64  \n",
      "dtypes: float64(1), int64(20), object(3)\n",
      "memory usage: 315.5+ KB\n"
     ]
    }
   ],
   "source": [
    "ratings.info()\n",
    "movies.info()"
   ]
  },
  {
   "cell_type": "code",
   "execution_count": 3,
   "id": "af277d49",
   "metadata": {},
   "outputs": [
    {
     "name": "stdout",
     "output_type": "stream",
     "text": [
      "   userId  movieId  rating  timestamp         title release_date  \\\n",
      "0     196      242       3  881250949  Kolya (1996)  24-Jan-1997   \n",
      "1      63      242       3  875747190  Kolya (1996)  24-Jan-1997   \n",
      "2     226      242       5  883888671  Kolya (1996)  24-Jan-1997   \n",
      "3     154      242       3  879138235  Kolya (1996)  24-Jan-1997   \n",
      "4     306      242       5  876503793  Kolya (1996)  24-Jan-1997   \n",
      "\n",
      "   video_release_date                                         IMDb_URL  \\\n",
      "0                 NaN  http://us.imdb.com/M/title-exact?Kolya%20(1996)   \n",
      "1                 NaN  http://us.imdb.com/M/title-exact?Kolya%20(1996)   \n",
      "2                 NaN  http://us.imdb.com/M/title-exact?Kolya%20(1996)   \n",
      "3                 NaN  http://us.imdb.com/M/title-exact?Kolya%20(1996)   \n",
      "4                 NaN  http://us.imdb.com/M/title-exact?Kolya%20(1996)   \n",
      "\n",
      "   unknown  Action  ...  Fantasy  Film-Noir  Horror  Musical  Mystery  \\\n",
      "0        0       0  ...        0          0       0        0        0   \n",
      "1        0       0  ...        0          0       0        0        0   \n",
      "2        0       0  ...        0          0       0        0        0   \n",
      "3        0       0  ...        0          0       0        0        0   \n",
      "4        0       0  ...        0          0       0        0        0   \n",
      "\n",
      "   Romance  Sci-Fi  Thriller  War  Western  \n",
      "0        0       0         0    0        0  \n",
      "1        0       0         0    0        0  \n",
      "2        0       0         0    0        0  \n",
      "3        0       0         0    0        0  \n",
      "4        0       0         0    0        0  \n",
      "\n",
      "[5 rows x 27 columns]\n"
     ]
    }
   ],
   "source": [
    "# Merge the ratings and movies DataFrames\n",
    "data = pd.merge(ratings, movies, on='movieId')\n",
    "print(data.head())\n"
   ]
  },
  {
   "cell_type": "code",
   "execution_count": 4,
   "id": "286bca4f",
   "metadata": {},
   "outputs": [
    {
     "name": "stdout",
     "output_type": "stream",
     "text": [
      "movieId  1     2     3     4     5     6     7     8     9     10    ...  \\\n",
      "userId                                                               ...   \n",
      "1         5.0   3.0   4.0   3.0   3.0   5.0   4.0   1.0   5.0   3.0  ...   \n",
      "2         4.0   0.0   0.0   0.0   0.0   0.0   0.0   0.0   0.0   2.0  ...   \n",
      "3         0.0   0.0   0.0   0.0   0.0   0.0   0.0   0.0   0.0   0.0  ...   \n",
      "4         0.0   0.0   0.0   0.0   0.0   0.0   0.0   0.0   0.0   0.0  ...   \n",
      "5         4.0   3.0   0.0   0.0   0.0   0.0   0.0   0.0   0.0   0.0  ...   \n",
      "\n",
      "movieId  1673  1674  1675  1676  1677  1678  1679  1680  1681  1682  \n",
      "userId                                                               \n",
      "1         0.0   0.0   0.0   0.0   0.0   0.0   0.0   0.0   0.0   0.0  \n",
      "2         0.0   0.0   0.0   0.0   0.0   0.0   0.0   0.0   0.0   0.0  \n",
      "3         0.0   0.0   0.0   0.0   0.0   0.0   0.0   0.0   0.0   0.0  \n",
      "4         0.0   0.0   0.0   0.0   0.0   0.0   0.0   0.0   0.0   0.0  \n",
      "5         0.0   0.0   0.0   0.0   0.0   0.0   0.0   0.0   0.0   0.0  \n",
      "\n",
      "[5 rows x 1682 columns]\n"
     ]
    }
   ],
   "source": [
    "user_item_matrix = data.pivot(index='userId', columns='movieId', values='rating').fillna(0)\n",
    "\n",
    "# Display the first few rows of the user-item matrix\n",
    "print(user_item_matrix.head())"
   ]
  },
  {
   "cell_type": "code",
   "execution_count": 5,
   "id": "ebb2876c",
   "metadata": {},
   "outputs": [],
   "source": [
    "# Calculate the cosine similarity between users\n",
    "user_similarity = cosine_similarity(user_item_matrix)\n",
    "user_similarity_df = pd.DataFrame(user_similarity, index=user_item_matrix.index, columns=user_item_matrix.index)\n"
   ]
  },
  {
   "cell_type": "code",
   "execution_count": 7,
   "id": "607ad651",
   "metadata": {},
   "outputs": [],
   "source": [
    "def recommend_movies(user_id, user_similarity_df, user_item_matrix, movies_df, n_recommendations=5):\n",
    "    similar_users = user_similarity_df[user_id].sort_values(ascending=False).index[1:]\n",
    "    similar_users_ratings = user_item_matrix.loc[similar_users]\n",
    "    recommendations = similar_users_ratings.mean(axis=0).sort_values(ascending=False)\n",
    "    recommendations = recommendations[user_item_matrix.loc[user_id] == 0]\n",
    "    recommended_movie_ids = recommendations.head(n_recommendations).index.tolist()\n",
    "    recommended_movie_titles = get_movie_titles(recommended_movie_ids, movies_df)\n",
    "    return recommended_movie_titles"
   ]
  },
  {
   "cell_type": "code",
   "execution_count": 8,
   "id": "d6522cef",
   "metadata": {},
   "outputs": [],
   "source": [
    "def get_movie_titles(movie_ids, movies_df):\n",
    "    return movies_df[movies_df['movieId'].isin(movie_ids)]['title'].values"
   ]
  },
  {
   "cell_type": "code",
   "execution_count": 9,
   "id": "7fc55f53",
   "metadata": {},
   "outputs": [
    {
     "name": "stdout",
     "output_type": "stream",
     "text": [
      "Enter user ID (1 to 943): 1\n",
      "\n",
      "Recommended movies for user 1:\n",
      "1. English Patient, The (1996)\n",
      "2. Scream (1996)\n",
      "3. Liar Liar (1997)\n",
      "4. Air Force One (1997)\n",
      "5. Titanic (1997)\n",
      "\n",
      "Do you want to recommend movies for another user? (yes/no): yes\n",
      "Enter user ID (1 to 943): 5\n",
      "\n",
      "Recommended movies for user 5:\n",
      "1. Pulp Fiction (1994)\n",
      "2. Godfather, The (1972)\n",
      "3. Contact (1997)\n",
      "4. English Patient, The (1996)\n",
      "5. Scream (1996)\n",
      "\n",
      "Do you want to recommend movies for another user? (yes/no): no\n"
     ]
    }
   ],
   "source": [
    "while True:\n",
    "    try:\n",
    "        user_id = int(input(\"Enter user ID (1 to 943): \"))\n",
    "        if user_id < 1 or user_id > 943:\n",
    "            print(\"User ID must be between 1 and 943\")\n",
    "            continue\n",
    "        \n",
    "        recommendations = recommend_movies(user_id, user_similarity_df, user_item_matrix, movies)\n",
    "        print(f\"\\nRecommended movies for user {user_id}:\")\n",
    "        for i, title in enumerate(recommendations, start=1):\n",
    "            print(f\"{i}. {title}\")\n",
    "        \n",
    "        # Ask if user wants to continue\n",
    "        answer = input(\"\\nDo you want to recommend movies for another user? (yes/no): \").lower()\n",
    "        if answer != 'yes':\n",
    "            break\n",
    "    except ValueError:\n",
    "        print(\"Invalid input. Please enter a valid user ID.\")"
   ]
  },
  {
   "cell_type": "code",
   "execution_count": null,
   "id": "6c019874",
   "metadata": {},
   "outputs": [],
   "source": []
  }
 ],
 "metadata": {
  "kernelspec": {
   "display_name": "Python 3 (ipykernel)",
   "language": "python",
   "name": "python3"
  },
  "language_info": {
   "codemirror_mode": {
    "name": "ipython",
    "version": 3
   },
   "file_extension": ".py",
   "mimetype": "text/x-python",
   "name": "python",
   "nbconvert_exporter": "python",
   "pygments_lexer": "ipython3",
   "version": "3.10.9"
  }
 },
 "nbformat": 4,
 "nbformat_minor": 5
}
