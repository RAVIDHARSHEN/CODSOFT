{
 "cells": [
  {
   "cell_type": "code",
   "execution_count": null,
   "id": "38fedaba",
   "metadata": {},
   "outputs": [
    {
     "name": "stdout",
     "output_type": "stream",
     "text": [
      "Simple Chatbot is running! Type 'quit' to exit.\n",
      "You: your name \n",
      "Chatbot: I'm a simple chatbot named JARVIS created to assist you.\n",
      "You: your developer name \n",
      "Chatbot: I was created by Mr.Ravi\n",
      "You: who developed you \n",
      "Chatbot: I'm sorry, I don't understand that. Could you please rephrase?\n"
     ]
    }
   ],
   "source": [
    "import re\n",
    "\n",
    "def simple_chatbot(user_input):\n",
    "    # Define rules (patterns and responses)\n",
    "    rules = [\n",
    "        (r'hi|hello|hey', \"Hello! How can I assist you today?\"),\n",
    "        (r'how are you', \"I'm a JARVIS, but thanks for asking!\"),\n",
    "        (r'goodbye|bye', \"Goodbye! Have a nice day!\"),\n",
    "        (r'your name', \"I'm a simple chatbot named JARVIS created to assist you.\"),\n",
    "        (r'who created|developer|who developed you , \"I was created by Mr.Ravi\"),\n",
    "        (r'what can you do|help', \"I can provide information, answer questions, and chat with you.\"),\n",
    "        (r'thank you|thanks', \"You're welcome!\"),\n",
    "        (r'yes|yeah|sure', \"Great!\"),\n",
    "        (r'no|nope', \"Okay, no problem!\"),\n",
    "        (r'sorry|apologies', \"No worries!\"),\n",
    "        (r'how old|age', \"I'm a chatbot and ageless!\"),\n",
    "        (r'favorite|favourite', \"I like all responses that make you happy!\"),\n",
    "        (r'love|hate', \"I'm just a bot, but I appreciate the sentiment!\"),\n",
    "        (r'tell me about|information about (.*)', \"I'm sorry, I don't have that information right now.\"),\n",
    "        (r'weather|temperature', \"I'm sorry, I cannot provide real-time weather updates.\"),\n",
    "        (r'joke|funny', \"Why don't scientists trust atoms? Because they make up everything!\"),\n",
    "    ]\n",
    "    \n",
    "    # Convert user input to lowercase for case insensitivity\n",
    "    user_input = user_input.lower()\n",
    "    \n",
    "    # Check for matching patterns and return corresponding response\n",
    "    for pattern, response in rules:\n",
    "        if re.search(pattern, user_input):\n",
    "            return response\n",
    "    \n",
    "    # Default response if no pattern matches\n",
    "    return \"I'm sorry, I don't understand that. Could you please rephrase?\"\n",
    "\n",
    "def main():\n",
    "    print(\"Simple Chatbot is running! Type 'quit' to exit.\")\n",
    "    while True:\n",
    "        user_input = input(\"You: \")\n",
    "        if user_input.lower() == 'quit':\n",
    "            print(\"Chatbot: Goodbye!\")\n",
    "            break\n",
    "        response = simple_chatbot(user_input)\n",
    "        print(f\"Chatbot: {response}\")\n",
    "\n",
    "if __name__ == \"__main__\":\n",
    "    main()\n"
   ]
  },
  {
   "cell_type": "code",
   "execution_count": null,
   "id": "b62a691f",
   "metadata": {},
   "outputs": [],
   "source": []
  }
 ],
 "metadata": {
  "kernelspec": {
   "display_name": "Python 3 (ipykernel)",
   "language": "python",
   "name": "python3"
  },
  "language_info": {
   "codemirror_mode": {
    "name": "ipython",
    "version": 3
   },
   "file_extension": ".py",
   "mimetype": "text/x-python",
   "name": "python",
   "nbconvert_exporter": "python",
   "pygments_lexer": "ipython3",
   "version": "3.10.9"
  }
 },
 "nbformat": 4,
 "nbformat_minor": 5
}
